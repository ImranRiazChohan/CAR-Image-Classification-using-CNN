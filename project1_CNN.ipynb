{
  "nbformat": 4,
  "nbformat_minor": 0,
  "metadata": {
    "kernelspec": {
      "display_name": "Python 3",
      "language": "python",
      "name": "python3"
    },
    "language_info": {
      "codemirror_mode": {
        "name": "ipython",
        "version": 3
      },
      "file_extension": ".py",
      "mimetype": "text/x-python",
      "name": "python",
      "nbconvert_exporter": "python",
      "pygments_lexer": "ipython3",
      "version": "3.7.3"
    },
    "colab": {
      "name": "project1_CNN.ipynb",
      "provenance": []
    }
  },
  "cells": [
    {
      "cell_type": "code",
      "metadata": {
        "id": "LgncBJfy16fD",
        "colab_type": "code",
        "colab": {}
      },
      "source": [
        "import keras\n",
        "import pandas as pd \n",
        "import numpy as np \n",
        "import matplotlib.pyplot as plt\n",
        "import tensorflow\n",
        "from tensorflow.keras import models\n",
        "from tensorflow.keras import layers\n",
        "import os,shutil\n",
        "from tensorflow.keras.preprocessing import image\n",
        "from tensorflow.keras.preprocessing.image import ImageDataGenerator"
      ],
      "execution_count": 0,
      "outputs": []
    },
    {
      "cell_type": "markdown",
      "metadata": {
        "id": "ZaJjzcvEB0F6",
        "colab_type": "text"
      },
      "source": [
        "## **Unzip data using python code:**\n",
        "The following python code will use the OS library, giving you access to the file system, and the zipfile library allowing you to unzip the data."
      ]
    },
    {
      "cell_type": "code",
      "metadata": {
        "id": "Z5Ri1Hb2_MMq",
        "colab_type": "code",
        "colab": {}
      },
      "source": [
        "import zipfile\n",
        "local_zip = '/content/drive/My Drive/cars-wagonr-swift.zip'\n",
        "\n",
        "zip_ref = zipfile.ZipFile(local_zip, 'r')\n",
        "\n",
        "zip_ref.extractall('/content')\n",
        "zip_ref.close()"
      ],
      "execution_count": 0,
      "outputs": []
    },
    {
      "cell_type": "markdown",
      "metadata": {
        "id": "qgGCoUI6CBwC",
        "colab_type": "text"
      },
      "source": [
        "# **Connect With Google Drive**"
      ]
    },
    {
      "cell_type": "code",
      "metadata": {
        "id": "qRU3vJBT8HJL",
        "colab_type": "code",
        "colab": {
          "base_uri": "https://localhost:8080/",
          "height": 122
        },
        "outputId": "5dcb8071-5723-4d39-952f-615d9e00d76b"
      },
      "source": [
        "from google.colab import drive\n",
        "drive.mount('/content/drive')"
      ],
      "execution_count": 9,
      "outputs": [
        {
          "output_type": "stream",
          "text": [
            "Go to this URL in a browser: https://accounts.google.com/o/oauth2/auth?client_id=947318989803-6bn6qk8qdgf4n4g3pfee6491hc0brc4i.apps.googleusercontent.com&redirect_uri=urn%3aietf%3awg%3aoauth%3a2.0%3aoob&response_type=code&scope=email%20https%3a%2f%2fwww.googleapis.com%2fauth%2fdocs.test%20https%3a%2f%2fwww.googleapis.com%2fauth%2fdrive%20https%3a%2f%2fwww.googleapis.com%2fauth%2fdrive.photos.readonly%20https%3a%2f%2fwww.googleapis.com%2fauth%2fpeopleapi.readonly\n",
            "\n",
            "Enter your authorization code:\n",
            "··········\n",
            "Mounted at /content/drive\n"
          ],
          "name": "stdout"
        }
      ]
    },
    {
      "cell_type": "markdown",
      "metadata": {
        "id": "g_rQnw4IB73x",
        "colab_type": "text"
      },
      "source": [
        "# Let's define the directories.\n",
        "Dataset containing three subsets: a training set with 1,000 samples of each class, a validation set with 500 samples of each class, and a test set with 500 samples of each class."
      ]
    },
    {
      "cell_type": "code",
      "metadata": {
        "id": "EG322b0o16fI",
        "colab_type": "code",
        "colab": {}
      },
      "source": [
        "original_dir='/content//data'\n",
        "test_dir_original='/content/data/test'\n",
        "train_dir_original='/content/data/train'\n",
        "validation_dir_original='/content/data/validation'"
      ],
      "execution_count": 0,
      "outputs": []
    },
    {
      "cell_type": "code",
      "metadata": {
        "id": "F0dctu_N16fN",
        "colab_type": "code",
        "colab": {}
      },
      "source": [
        "test_dir_swift=os.path.join(test_dir_original,\"swift\")\n",
        "test_dir_wagonr=os.path.join(test_dir_original,\"wagonr\")\n",
        "\n",
        "train_dir_swift=os.path.join(train_dir_original,\"swift\")\n",
        "train_dir_wagonr=os.path.join(train_dir_original,\"wagonr\")\n",
        "\n",
        "validation_dir_swift=os.path.join(validation_dir_original,\"swift\")\n",
        "validation_dir_wagonr=os.path.join(validation_dir_original,\"wagonr\")"
      ],
      "execution_count": 0,
      "outputs": []
    },
    {
      "cell_type": "code",
      "metadata": {
        "id": "VX_Ijue416fR",
        "colab_type": "code",
        "colab": {}
      },
      "source": [
        "def print_method():\n",
        "    print(\"train_swift\",len(os.listdir(train_dir_swift)))\n",
        "    print(\"train_wagonR\",len(os.listdir(train_dir_wagonr)))\n",
        "    print(\"test_swift\",len(os.listdir(test_dir_swift)))\n",
        "    print(\"test_wagonR\",len(os.listdir(test_dir_wagonr)))\n",
        "    print(\"validation_swift\",len(os.listdir(validation_dir_swift)))\n",
        "    print(\"validation_wagonR\",len(os.listdir(validation_dir_wagonr)))\n",
        "    return"
      ],
      "execution_count": 0,
      "outputs": []
    },
    {
      "cell_type": "code",
      "metadata": {
        "id": "qe_qTLGM16fV",
        "colab_type": "code",
        "colab": {
          "base_uri": "https://localhost:8080/",
          "height": 136
        },
        "outputId": "941fcda2-2111-4256-c819-19465790e2e6"
      },
      "source": [
        "print(print_method())"
      ],
      "execution_count": 18,
      "outputs": [
        {
          "output_type": "stream",
          "text": [
            "train_swift 1200\n",
            "train_wagonR 1200\n",
            "test_swift 400\n",
            "test_wagonR 400\n",
            "validation_swift 400\n",
            "validation_wagonR 400\n",
            "None\n"
          ],
          "name": "stdout"
        }
      ]
    },
    {
      "cell_type": "markdown",
      "metadata": {
        "id": "OTaC-MbKCWgD",
        "colab_type": "text"
      },
      "source": [
        "# **Create Model**"
      ]
    },
    {
      "cell_type": "code",
      "metadata": {
        "id": "LvYk551X16fZ",
        "colab_type": "code",
        "colab": {}
      },
      "source": [
        "model=tensorflow.keras.models.Sequential()\n",
        "model.add(layers.Conv2D(32,(3,3),activation='relu',input_shape=(150,150,3)))\n",
        "model.add(layers.MaxPool2D(2,2))\n",
        "model.add(layers.Conv2D(64,(3,3),activation='relu'))\n",
        "model.add(layers.MaxPool2D(2,2))\n",
        "model.add(layers.Conv2D(128,(3,3),activation='relu'))\n",
        "model.add(layers.MaxPool2D(2,2))\n",
        "model.add(layers.Conv2D(32,(3,3),activation='relu'))\n",
        "model.add(layers.Flatten())\n",
        "model.add(layers.Dense(64,activation='relu'))\n",
        "model.add(layers.Dense(1,activation='sigmoid'))"
      ],
      "execution_count": 0,
      "outputs": []
    },
    {
      "cell_type": "code",
      "metadata": {
        "id": "c3Xd6jZj16fe",
        "colab_type": "code",
        "colab": {
          "base_uri": "https://localhost:8080/",
          "height": 493
        },
        "outputId": "7fb418e6-8275-4dea-ec52-7bf70060685c"
      },
      "source": [
        "model.summary()"
      ],
      "execution_count": 20,
      "outputs": [
        {
          "output_type": "stream",
          "text": [
            "Model: \"sequential\"\n",
            "_________________________________________________________________\n",
            "Layer (type)                 Output Shape              Param #   \n",
            "=================================================================\n",
            "conv2d (Conv2D)              (None, 148, 148, 32)      896       \n",
            "_________________________________________________________________\n",
            "max_pooling2d (MaxPooling2D) (None, 74, 74, 32)        0         \n",
            "_________________________________________________________________\n",
            "conv2d_1 (Conv2D)            (None, 72, 72, 64)        18496     \n",
            "_________________________________________________________________\n",
            "max_pooling2d_1 (MaxPooling2 (None, 36, 36, 64)        0         \n",
            "_________________________________________________________________\n",
            "conv2d_2 (Conv2D)            (None, 34, 34, 128)       73856     \n",
            "_________________________________________________________________\n",
            "max_pooling2d_2 (MaxPooling2 (None, 17, 17, 128)       0         \n",
            "_________________________________________________________________\n",
            "conv2d_3 (Conv2D)            (None, 15, 15, 32)        36896     \n",
            "_________________________________________________________________\n",
            "flatten (Flatten)            (None, 7200)              0         \n",
            "_________________________________________________________________\n",
            "dense (Dense)                (None, 64)                460864    \n",
            "_________________________________________________________________\n",
            "dense_1 (Dense)              (None, 1)                 65        \n",
            "=================================================================\n",
            "Total params: 591,073\n",
            "Trainable params: 591,073\n",
            "Non-trainable params: 0\n",
            "_________________________________________________________________\n"
          ],
          "name": "stdout"
        }
      ]
    },
    {
      "cell_type": "markdown",
      "metadata": {
        "id": "PjvJe9evCbUt",
        "colab_type": "text"
      },
      "source": [
        "\n",
        "## **compile model:**\n",
        "We train our model with the binary_crossentropy loss, because it's a binary classification problem and our final activation is a sigmoid.We will use the rmsprop optimizer with a learning rate of 0.001. During training, we will want to monitor classification accuracy. Using the RMSprop optimization algorithm is preferable to stochastic gradient descent (SGD), because RMSprop automates learning-rate tuning for us. (Other optimizers, such as Adam and Adagrad, also automatically adapt the learning rate during training, and would work equally well here.)"
      ]
    },
    {
      "cell_type": "code",
      "metadata": {
        "id": "E_cYqkSv16fk",
        "colab_type": "code",
        "colab": {}
      },
      "source": [
        "model.compile(optimizer='Adam',loss='binary_crossentropy',metrics=['accuracy'])"
      ],
      "execution_count": 0,
      "outputs": []
    },
    {
      "cell_type": "markdown",
      "metadata": {
        "id": "uBWW_9RqClAK",
        "colab_type": "text"
      },
      "source": [
        "## **Data preprocessing:**\n",
        "\n",
        "In keras it can be done via thekeras.preprocessing.image.ImageDataGenerator class using the rescale parameter. This ImageDataGenerator class allows you to instantiate generators of augmented image batches (and their labels) via .flow(data, labels) or .flow_from_directory(directory). These generators can then be used with the Keras model methods that accept data generators as inputs: fit, evaluate_generator, and predict_generator."
      ]
    },
    {
      "cell_type": "code",
      "metadata": {
        "id": "KVGxMjkR16fp",
        "colab_type": "code",
        "colab": {}
      },
      "source": [
        "train_data_gen=ImageDataGenerator(rescale=1./255,shear_range=0.2,zoom_range=0.2,horizontal_flip=True)\n",
        "test_data_gen=ImageDataGenerator(rescale=1./255)\n",
        "val_data_gen=ImageDataGenerator(rescale=1./255)"
      ],
      "execution_count": 0,
      "outputs": []
    },
    {
      "cell_type": "code",
      "metadata": {
        "id": "lugWSjIC16fu",
        "colab_type": "code",
        "colab": {
          "base_uri": "https://localhost:8080/",
          "height": 68
        },
        "outputId": "f3fa89f3-f53d-4180-ae80-15aa58e17f32"
      },
      "source": [
        "train_generator=train_data_gen.flow_from_directory(train_dir_original,target_size=(150,150),batch_size=20,class_mode='binary')\n",
        "test_generator=test_data_gen.flow_from_directory(test_dir_original,target_size=(150,150),batch_size=20,class_mode='binary')\n",
        "validation_generator=test_data_gen.flow_from_directory(validation_dir_original,target_size=(150,150),batch_size=20,class_mode='binary')"
      ],
      "execution_count": 23,
      "outputs": [
        {
          "output_type": "stream",
          "text": [
            "Found 2400 images belonging to 2 classes.\n",
            "Found 800 images belonging to 2 classes.\n",
            "Found 800 images belonging to 2 classes.\n"
          ],
          "name": "stdout"
        }
      ]
    },
    {
      "cell_type": "markdown",
      "metadata": {
        "id": "KaKQ2b4cCsbd",
        "colab_type": "text"
      },
      "source": [
        "## **Train Model**"
      ]
    },
    {
      "cell_type": "code",
      "metadata": {
        "id": "QB2eszRW16fx",
        "colab_type": "code",
        "colab": {
          "base_uri": "https://localhost:8080/",
          "height": 428
        },
        "outputId": "82e0ab67-d50b-4ccf-ed03-494e09c8fd90"
      },
      "source": [
        "history = model.fit_generator(train_generator,steps_per_epoch=150,epochs=10,validation_data=validation_generator,validation_steps=50)"
      ],
      "execution_count": 24,
      "outputs": [
        {
          "output_type": "stream",
          "text": [
            "WARNING:tensorflow:From <ipython-input-24-f8061a1663cb>:1: Model.fit_generator (from tensorflow.python.keras.engine.training) is deprecated and will be removed in a future version.\n",
            "Instructions for updating:\n",
            "Please use Model.fit, which supports generators.\n",
            "Epoch 1/10\n",
            "150/150 [==============================] - 146s 972ms/step - loss: 0.6804 - accuracy: 0.5697 - val_loss: 0.6518 - val_accuracy: 0.6350\n",
            "Epoch 2/10\n",
            "150/150 [==============================] - 144s 959ms/step - loss: 0.6071 - accuracy: 0.6717 - val_loss: 0.5147 - val_accuracy: 0.7480\n",
            "Epoch 3/10\n",
            "150/150 [==============================] - 144s 961ms/step - loss: 0.5342 - accuracy: 0.7340 - val_loss: 0.4573 - val_accuracy: 0.7940\n",
            "Epoch 4/10\n",
            "150/150 [==============================] - 144s 959ms/step - loss: 0.4342 - accuracy: 0.7950 - val_loss: 0.3558 - val_accuracy: 0.8370\n",
            "Epoch 5/10\n",
            "150/150 [==============================] - 144s 960ms/step - loss: 0.3615 - accuracy: 0.8317 - val_loss: 0.4011 - val_accuracy: 0.8390\n",
            "Epoch 6/10\n",
            "150/150 [==============================] - 144s 960ms/step - loss: 0.3289 - accuracy: 0.8527 - val_loss: 0.2621 - val_accuracy: 0.8950\n",
            "Epoch 7/10\n",
            "150/150 [==============================] - 144s 961ms/step - loss: 0.2759 - accuracy: 0.8793 - val_loss: 0.3198 - val_accuracy: 0.8780\n",
            "Epoch 8/10\n",
            "150/150 [==============================] - 145s 968ms/step - loss: 0.2516 - accuracy: 0.8913 - val_loss: 0.3252 - val_accuracy: 0.8720\n",
            "Epoch 9/10\n",
            "150/150 [==============================] - 145s 964ms/step - loss: 0.2186 - accuracy: 0.9040 - val_loss: 0.2441 - val_accuracy: 0.9110\n",
            "Epoch 10/10\n",
            "150/150 [==============================] - 145s 967ms/step - loss: 0.2119 - accuracy: 0.9147 - val_loss: 0.3479 - val_accuracy: 0.8700\n"
          ],
          "name": "stdout"
        }
      ]
    },
    {
      "cell_type": "markdown",
      "metadata": {
        "id": "_lCp_PyKCyAS",
        "colab_type": "text"
      },
      "source": [
        "## **Evaluating Accuracy and Loss for the Model:**\n",
        "Let's plot the training/validation accuracy and loss as collected during training:\n"
      ]
    },
    {
      "cell_type": "code",
      "metadata": {
        "id": "cgiQ6x1pGU9d",
        "colab_type": "code",
        "colab": {}
      },
      "source": [
        ""
      ],
      "execution_count": 0,
      "outputs": []
    },
    {
      "cell_type": "code",
      "metadata": {
        "id": "RBAvAmkbC8O2",
        "colab_type": "code",
        "colab": {}
      },
      "source": [
        "accuracy=history.history[\"accuracy\"]\n",
        "loss=history.history['loss']\n",
        "val_accuracy=history.history['val_accuracy']\n",
        "val_loss=history.history['val_loss']\n",
        "epochs=range(len(accuracy))"
      ],
      "execution_count": 0,
      "outputs": []
    },
    {
      "cell_type": "code",
      "metadata": {
        "id": "JUOiBnf4DLnS",
        "colab_type": "code",
        "colab": {
          "base_uri": "https://localhost:8080/",
          "height": 281
        },
        "outputId": "49b4fb47-860c-49b3-cf76-77488680966f"
      },
      "source": [
        "\n",
        "plt.plot(epochs,accuracy)\n",
        "plt.plot(epochs,val_accuracy)\n",
        "plt.title(\"training and validation Accuracy\")\n",
        "plt.show()"
      ],
      "execution_count": 26,
      "outputs": [
        {
          "output_type": "display_data",
          "data": {
            "image/png": "[encoded data removed]",
            "text/plain": [
              "<Figure size 432x288 with 1 Axes>"
            ]
          },
          "metadata": {
            "tags": [],
            "needs_background": "light"
          }
        }
      ]
    },
    {
      "cell_type": "code",
      "metadata": {
        "id": "h3BP7687DTgq",
        "colab_type": "code",
        "colab": {
          "base_uri": "https://localhost:8080/",
          "height": 281
        },
        "outputId": "cd65280b-5ac4-40af-aeb6-2e301b460729"
      },
      "source": [
        "\n",
        "plt.plot(epochs,loss)\n",
        "plt.plot(epochs,val_loss)\n",
        "plt.title(\"training and Validation loss\")\n",
        "plt.show()"
      ],
      "execution_count": 27,
      "outputs": [
        {
          "output_type": "display_data",
          "data": {
            "image/png": "[encoded data removed]",
            "text/plain": [
              "<Figure size 432x288 with 1 Axes>"
            ]
          },
          "metadata": {
            "tags": [],
            "needs_background": "light"
          }
        }
      ]
    },
    {
      "cell_type": "code",
      "metadata": {
        "id": "UUgV5hCL16f2",
        "colab_type": "code",
        "colab": {}
      },
      "source": [
        "model.save(\"model.h5\")"
      ],
      "execution_count": 0,
      "outputs": []
    },
    {
      "cell_type": "code",
      "metadata": {
        "id": "FyVvOzVk16f7",
        "colab_type": "code",
        "colab": {}
      },
      "source": [
        "from tensorflow.keras.models import load_model\n",
        "model=load_model(\"/content/model.h5\")"
      ],
      "execution_count": 0,
      "outputs": []
    },
    {
      "cell_type": "code",
      "metadata": {
        "id": "MXNXSvRo16f_",
        "colab_type": "code",
        "colab": {
          "base_uri": "https://localhost:8080/",
          "height": 51
        },
        "outputId": "410fcd9d-4d67-49fa-9fe8-04186a94975b"
      },
      "source": [
        "test_image=image.load_img('/content/wagonr3.jpeg',target_size=(150,150))\n",
        "test_image=image.img_to_array(test_image)\n",
        "test_image=np.expand_dims(test_image,axis=0)\n",
        "result=model.predict(test_image)\n",
        "map=train_generator.class_indices\n",
        "print(map)\n",
        "\n",
        "if result[0][0]>0:\n",
        "    predict='wagonr'\n",
        "else:\n",
        "    predict='swift'    \n",
        "\n",
        "print(\"this image is:\",predict)"
      ],
      "execution_count": 40,
      "outputs": [
        {
          "output_type": "stream",
          "text": [
            "{'swift': 0, 'wagonr': 1}\n",
            "this image is: wagonr\n"
          ],
          "name": "stdout"
        }
      ]
    },
    {
      "cell_type": "code",
      "metadata": {
        "id": "e4I42HfCGe-p",
        "colab_type": "code",
        "colab": {}
      },
      "source": [
        ""
      ],
      "execution_count": 0,
      "outputs": []
    }
  ]
}
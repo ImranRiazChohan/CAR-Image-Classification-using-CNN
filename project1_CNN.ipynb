{
 "cells": [
  {
   "cell_type": "code",
   "execution_count": 1,
   "metadata": {},
   "outputs": [
    {
     "name": "stderr",
     "output_type": "stream",
     "text": [
      "Using TensorFlow backend.\n"
     ]
    }
   ],
   "source": [
    "import keras\n",
    "import pandas as pd \n",
    "import numpy as np \n",
    "import matplotlib.pyplot as plt\n",
    "from keras import models\n",
    "from keras import layers\n",
    "import os,shutil\n",
    "from keras_preprocessing import image\n",
    "from keras.preprocessing.image import ImageDataGenerator"
   ]
  },
  {
   "cell_type": "code",
   "execution_count": 2,
   "metadata": {},
   "outputs": [],
   "source": [
    "original_dir='/Users/usama/OneDrive/Desktop/CAR_Classification_Project/data'\n",
    "test_dir_original='/Users/usama/OneDrive/Desktop/CAR_Classification_Project/data/test'\n",
    "train_dir_original='/Users/usama/OneDrive/Desktop/CAR_Classification_Project/data/train'\n",
    "validation_dir_original='/Users/usama/OneDrive/Desktop/CAR_Classification_Project/data/validation'"
   ]
  },
  {
   "cell_type": "code",
   "execution_count": 3,
   "metadata": {},
   "outputs": [],
   "source": [
    "test_dir_swift=os.path.join(test_dir_original,\"swift\")\n",
    "test_dir_wagonr=os.path.join(test_dir_original,\"wagonr\")\n",
    "\n",
    "train_dir_swift=os.path.join(train_dir_original,\"swift\")\n",
    "train_dir_wagonr=os.path.join(train_dir_original,\"wagonr\")\n",
    "\n",
    "validation_dir_swift=os.path.join(validation_dir_original,\"swift\")\n",
    "validation_dir_wagonr=os.path.join(validation_dir_original,\"wagonr\")"
   ]
  },
  {
   "cell_type": "code",
   "execution_count": 4,
   "metadata": {},
   "outputs": [],
   "source": [
    "def print_method():\n",
    "    print(\"train_swift\",len(os.listdir(train_dir_swift)))\n",
    "    print(\"train_wagonR\",len(os.listdir(train_dir_wagonr)))\n",
    "    print(\"test_swift\",len(os.listdir(test_dir_swift)))\n",
    "    print(\"test_wagonR\",len(os.listdir(test_dir_wagonr)))\n",
    "    print(\"validation_swift\",len(os.listdir(validation_dir_swift)))\n",
    "    print(\"validation_wagonR\",len(os.listdir(validation_dir_wagonr)))\n",
    "    return"
   ]
  },
  {
   "cell_type": "code",
   "execution_count": 5,
   "metadata": {},
   "outputs": [
    {
     "name": "stdout",
     "output_type": "stream",
     "text": [
      "train_swift 1200\n",
      "train_wagonR 1200\n",
      "test_swift 400\n",
      "test_wagonR 400\n",
      "validation_swift 400\n",
      "validation_wagonR 400\n",
      "None\n"
     ]
    }
   ],
   "source": [
    "print(print_method())"
   ]
  },
  {
   "cell_type": "code",
   "execution_count": 8,
   "metadata": {},
   "outputs": [],
   "source": [
    "model=models.Sequential()\n",
    "model.add(layers.Conv2D(32,(3,3),activation='relu',input_shape=(150,150,3)))\n",
    "model.add(layers.MaxPool2D(2,2))\n",
    "model.add(layers.Conv2D(64,(3,3),activation='relu'))\n",
    "model.add(layers.MaxPool2D(2,2))\n",
    "model.add(layers.Conv2D(128,(3,3),activation='relu'))\n",
    "model.add(layers.MaxPool2D(2,2))\n",
    "model.add(layers.Conv2D(32,(3,3),activation='relu'))\n",
    "model.add(layers.Flatten())\n",
    "model.add(layers.Dense(64,activation='relu'))\n",
    "model.add(layers.Dense(1,activation='sigmoid'))"
   ]
  },
  {
   "cell_type": "code",
   "execution_count": 9,
   "metadata": {},
   "outputs": [
    {
     "name": "stdout",
     "output_type": "stream",
     "text": [
      "_________________________________________________________________\n",
      "Layer (type)                 Output Shape              Param #   \n",
      "=================================================================\n",
      "conv2d_5 (Conv2D)            (None, 148, 148, 32)      896       \n",
      "_________________________________________________________________\n",
      "max_pooling2d_4 (MaxPooling2 (None, 74, 74, 32)        0         \n",
      "_________________________________________________________________\n",
      "conv2d_6 (Conv2D)            (None, 72, 72, 64)        18496     \n",
      "_________________________________________________________________\n",
      "max_pooling2d_5 (MaxPooling2 (None, 36, 36, 64)        0         \n",
      "_________________________________________________________________\n",
      "conv2d_7 (Conv2D)            (None, 34, 34, 128)       73856     \n",
      "_________________________________________________________________\n",
      "max_pooling2d_6 (MaxPooling2 (None, 17, 17, 128)       0         \n",
      "_________________________________________________________________\n",
      "conv2d_8 (Conv2D)            (None, 15, 15, 32)        36896     \n",
      "_________________________________________________________________\n",
      "flatten_2 (Flatten)          (None, 7200)              0         \n",
      "_________________________________________________________________\n",
      "dense_3 (Dense)              (None, 64)                460864    \n",
      "_________________________________________________________________\n",
      "dense_4 (Dense)              (None, 1)                 65        \n",
      "=================================================================\n",
      "Total params: 591,073\n",
      "Trainable params: 591,073\n",
      "Non-trainable params: 0\n",
      "_________________________________________________________________\n"
     ]
    }
   ],
   "source": [
    "model.summary()"
   ]
  },
  {
   "cell_type": "code",
   "execution_count": 10,
   "metadata": {},
   "outputs": [],
   "source": [
    "model.compile(optimizer='Adam',loss='binary_crossentropy',metrics=['accuracy'])"
   ]
  },
  {
   "cell_type": "code",
   "execution_count": 11,
   "metadata": {},
   "outputs": [],
   "source": [
    "train_data_gen=ImageDataGenerator(rescale=1./255,shear_range=0.2,zoom_range=0.2,horizontal_flip=True)\n",
    "test_data_gen=ImageDataGenerator(rescale=1./255)\n",
    "val_data_gen=ImageDataGenerator(rescale=1./255)"
   ]
  },
  {
   "cell_type": "code",
   "execution_count": 12,
   "metadata": {},
   "outputs": [
    {
     "name": "stdout",
     "output_type": "stream",
     "text": [
      "Found 2400 images belonging to 2 classes.\n",
      "Found 800 images belonging to 2 classes.\n",
      "Found 800 images belonging to 2 classes.\n"
     ]
    }
   ],
   "source": [
    "train_generator=train_data_gen.flow_from_directory(train_dir_original,target_size=(150,150),batch_size=20,class_mode='binary')\n",
    "test_generator=test_data_gen.flow_from_directory(test_dir_original,target_size=(150,150),batch_size=20,class_mode='binary')\n",
    "validation_generator=test_data_gen.flow_from_directory(validation_dir_original,target_size=(150,150),batch_size=20,class_mode='binary')"
   ]
  },
  {
   "cell_type": "code",
   "execution_count": 13,
   "metadata": {},
   "outputs": [
    {
     "name": "stdout",
     "output_type": "stream",
     "text": [
      "WARNING:tensorflow:From C:\\Users\\usama\\Anaconda3\\lib\\site-packages\\tensorflow\\python\\ops\\math_ops.py:3066: to_int32 (from tensorflow.python.ops.math_ops) is deprecated and will be removed in a future version.\n",
      "Instructions for updating:\n",
      "Use tf.cast instead.\n",
      "Epoch 1/10\n",
      "150/150 [==============================] - 340s 2s/step - loss: 0.6917 - acc: 0.5170 - val_loss: 0.7117 - val_acc: 0.5040\n",
      "Epoch 2/10\n",
      "150/150 [==============================] - 338s 2s/step - loss: 0.6670 - acc: 0.5967 - val_loss: 0.6300 - val_acc: 0.6550\n",
      "Epoch 3/10\n",
      "150/150 [==============================] - 334s 2s/step - loss: 0.5593 - acc: 0.7237 - val_loss: 0.4949 - val_acc: 0.7900\n",
      "Epoch 4/10\n",
      "150/150 [==============================] - 334s 2s/step - loss: 0.4605 - acc: 0.7887 - val_loss: 0.3759 - val_acc: 0.8390\n",
      "Epoch 5/10\n",
      "150/150 [==============================] - 333s 2s/step - loss: 0.3754 - acc: 0.8303 - val_loss: 0.3865 - val_acc: 0.8380\n",
      "Epoch 6/10\n",
      "150/150 [==============================] - 332s 2s/step - loss: 0.3515 - acc: 0.8427 - val_loss: 0.3161 - val_acc: 0.8600\n",
      "Epoch 7/10\n",
      "150/150 [==============================] - 334s 2s/step - loss: 0.3090 - acc: 0.8617 - val_loss: 0.3358 - val_acc: 0.8590\n",
      "Epoch 8/10\n",
      "150/150 [==============================] - 341s 2s/step - loss: 0.2552 - acc: 0.8920 - val_loss: 0.3057 - val_acc: 0.8740\n",
      "Epoch 9/10\n",
      "150/150 [==============================] - 327s 2s/step - loss: 0.2468 - acc: 0.8947 - val_loss: 0.3375 - val_acc: 0.8730\n",
      "Epoch 10/10\n",
      "150/150 [==============================] - 341s 2s/step - loss: 0.2225 - acc: 0.9033 - val_loss: 0.2704 - val_acc: 0.9060\n"
     ]
    }
   ],
   "source": [
    "history = model.fit_generator(train_generator,steps_per_epoch=150,epochs=10,validation_data=validation_generator,validation_steps=50)"
   ]
  },
  {
   "cell_type": "code",
   "execution_count": 70,
   "metadata": {},
   "outputs": [],
   "source": [
    "model.save(\"model.h5\")"
   ]
  },
  {
   "cell_type": "code",
   "execution_count": 71,
   "metadata": {},
   "outputs": [],
   "source": [
    "from keras.models import load_model\n",
    "model=load_model(\"model.h5\")"
   ]
  },
  {
   "cell_type": "code",
   "execution_count": 78,
   "metadata": {},
   "outputs": [
    {
     "name": "stdout",
     "output_type": "stream",
     "text": [
      "{'swift': 0, 'wagonr': 1}\n",
      "this image is: swift\n"
     ]
    }
   ],
   "source": [
    "test_image=image.load_img('/Users/usama/OneDrive/Desktop/CAR_Classification_Project/picture2.jpg',target_size=(150,150))\n",
    "test_image=image.img_to_array(test_image)\n",
    "test_image=np.expand_dims(test_image,axis=0)\n",
    "result=model.predict(test_image)\n",
    "map=train_generator.class_indices\n",
    "print(map)\n",
    "\n",
    "if result[0][0]==1:\n",
    "    predict='wagonr'\n",
    "else:\n",
    "    predict='swift'    \n",
    "\n",
    "print(\"this image is:\",predict)"
   ]
  }
 ],
 "metadata": {
  "kernelspec": {
   "display_name": "Python 3",
   "language": "python",
   "name": "python3"
  },
  "language_info": {
   "codemirror_mode": {
    "name": "ipython",
    "version": 3
   },
   "file_extension": ".py",
   "mimetype": "text/x-python",
   "name": "python",
   "nbconvert_exporter": "python",
   "pygments_lexer": "ipython3",
   "version": "3.7.3"
  }
 },
 "nbformat": 4,
 "nbformat_minor": 2
}

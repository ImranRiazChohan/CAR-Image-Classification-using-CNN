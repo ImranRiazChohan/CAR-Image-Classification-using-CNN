{
 "cells": [
  {
   "cell_type": "code",
   "execution_count": 1,
   "metadata": {},
   "outputs": [
    {
     "name": "stderr",
     "output_type": "stream",
     "text": [
      "Using TensorFlow backend.\n"
     ]
    }
   ],
   "source": [
    "import keras\n",
    "import pandas as pd \n",
    "import numpy as np \n",
    "import matplotlib.pyplot as plt\n",
    "from keras import models\n",
    "from keras import layers\n",
    "import os,shutil\n",
    "from keras_preprocessing import image\n",
    "from keras.preprocessing.image import ImageDataGenerator"
   ]
  },
  {
   "cell_type": "code",
   "execution_count": 2,
   "metadata": {},
   "outputs": [],
   "source": [
    "original_dir='/Users/usama/OneDrive/Desktop/CAR_Classification_Project/data'\n",
    "test_dir_original='/Users/usama/OneDrive/Desktop/CAR_Classification_Project/data/test'\n",
    "train_dir_original='/Users/usama/OneDrive/Desktop/CAR_Classification_Project/data/train'\n",
    "validation_dir_original='/Users/usama/OneDrive/Desktop/CAR_Classification_Project/data/validation'"
   ]
  },
  {
   "cell_type": "code",
   "execution_count": 3,
   "metadata": {},
   "outputs": [],
   "source": [
    "test_dir_swift=os.path.join(test_dir_original,\"swift\")\n",
    "test_dir_wagonr=os.path.join(test_dir_original,\"wagonr\")\n",
    "\n",
    "train_dir_swift=os.path.join(train_dir_original,\"swift\")\n",
    "train_dir_wagonr=os.path.join(train_dir_original,\"wagonr\")\n",
    "\n",
    "validation_dir_swift=os.path.join(validation_dir_original,\"swift\")\n",
    "validation_dir_wagonr=os.path.join(validation_dir_original,\"wagonr\")"
   ]
  },
  {
   "cell_type": "code",
   "execution_count": 4,
   "metadata": {},
   "outputs": [],
   "source": [
    "def print_method():\n",
    "    print(\"train_swift\",len(os.listdir(train_dir_swift)))\n",
    "    print(\"train_wagonR\",len(os.listdir(train_dir_wagonr)))\n",
    "    print(\"test_swift\",len(os.listdir(test_dir_swift)))\n",
    "    print(\"test_wagonR\",len(os.listdir(test_dir_wagonr)))\n",
    "    print(\"validation_swift\",len(os.listdir(validation_dir_swift)))\n",
    "    print(\"validation_wagonR\",len(os.listdir(validation_dir_wagonr)))\n",
    "    return"
   ]
  },
  {
   "cell_type": "code",
   "execution_count": 5,
   "metadata": {},
   "outputs": [],
   "source": [
    "train_data_gen=ImageDataGenerator(rescale=1./255,shear_range=0.2,zoom_range=0.2,horizontal_flip=True)\n",
    "test_data_gen=ImageDataGenerator(rescale=1./255)\n",
    "val_data_gen=ImageDataGenerator(rescale=1./255)"
   ]
  },
  {
   "cell_type": "code",
   "execution_count": 13,
   "metadata": {},
   "outputs": [
    {
     "name": "stdout",
     "output_type": "stream",
     "text": [
      "Found 2400 images belonging to 2 classes.\n",
      "Found 800 images belonging to 2 classes.\n",
      "Found 800 images belonging to 2 classes.\n"
     ]
    }
   ],
   "source": [
    "train_generator=train_data_gen.flow_from_directory(train_dir_original,target_size=(150,150),batch_size=20,class_mode='binary')\n",
    "test_generator=test_data_gen.flow_from_directory(test_dir_original,target_size=(150,150),batch_size=20,class_mode='binary')\n",
    "validation_generator=test_data_gen.flow_from_directory(validation_dir_original,target_size=(150,150),batch_size=20,class_mode='binary')"
   ]
  },
  {
   "cell_type": "code",
   "execution_count": 14,
   "metadata": {},
   "outputs": [],
   "source": [
    "from keras.models import load_model\n",
    "model=load_model(\"model.h5\")"
   ]
  },
  {
   "cell_type": "code",
   "execution_count": 17,
   "metadata": {},
   "outputs": [
    {
     "name": "stdout",
     "output_type": "stream",
     "text": [
      "{'swift': 0, 'wagonr': 1}\n",
      "this image is: wagonr\n"
     ]
    }
   ],
   "source": [
    "test_image=image.load_img('/Users/usama/OneDrive/Desktop/CAR_Classification_Project/picture1.jpg',target_size=(150,150))\n",
    "test_image=image.img_to_array(test_image)\n",
    "test_image=np.expand_dims(test_image,axis=0)\n",
    "result=model.predict(test_image)\n",
    "map=train_generator.class_indices\n",
    "print(map)\n",
    "\n",
    "if result[0][0]==1:\n",
    "    predict='wagonr'\n",
    "else:\n",
    "    predict='swift'    \n",
    "\n",
    "print(\"this image is:\",predict)"
   ]
  },
  {
   "cell_type": "code",
   "execution_count": null,
   "metadata": {},
   "outputs": [],
   "source": []
  }
 ],
 "metadata": {
  "kernelspec": {
   "display_name": "Python 3",
   "language": "python",
   "name": "python3"
  },
  "language_info": {
   "codemirror_mode": {
    "name": "ipython",
    "version": 3
   },
   "file_extension": ".py",
   "mimetype": "text/x-python",
   "name": "python",
   "nbconvert_exporter": "python",
   "pygments_lexer": "ipython3",
   "version": "3.7.3"
  }
 },
 "nbformat": 4,
 "nbformat_minor": 2
}
